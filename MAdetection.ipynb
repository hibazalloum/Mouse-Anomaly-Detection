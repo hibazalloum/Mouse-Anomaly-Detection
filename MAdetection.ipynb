{
 "cells": [
  {
   "cell_type": "markdown",
   "id": "a09edb55",
   "metadata": {},
   "source": [
    "# 🧠 Mouse Movement Anomaly Detection\n",
    "\n",
    "This notebook applies an **Isolation Forest** model to detect unusual behavior in mouse movement data. It simulates movement data, extracts speed and acceleration, applies the model, and visualizes the anomalies."
   ]
  },
  {
   "cell_type": "code",
   "execution_count": null,
   "id": "28b154f3",
   "metadata": {},
   "outputs": [],
   "source": [
    "# 📦 Import required libraries\n",
    "import pandas as pd\n",
    "import numpy as np\n",
    "import matplotlib.pyplot as plt\n",
    "import seaborn as sns\n",
    "from sklearn.ensemble import IsolationForest"
   ]
  },
  {
   "cell_type": "code",
   "execution_count": null,
   "id": "25813a25",
   "metadata": {},
   "outputs": [],
   "source": [
    "# 🧪 Step 1: Generate Simulated Mouse Movement Data\n",
    "np.random.seed(42)\n",
    "n_points = 200\n",
    "x = np.cumsum(np.random.randn(n_points)) + 500\n",
    "y = np.cumsum(np.random.randn(n_points)) + 300\n",
    "time = np.arange(n_points)\n",
    "activity = np.random.choice(['move', 'click', 'drag'], n_points, p=[0.7, 0.2, 0.1])\n",
    "df = pd.DataFrame({'time': time, 'x': x, 'y': y, 'activity': activity})\n",
    "df.head()"
   ]
  },
  {
   "cell_type": "code",
   "execution_count": null,
   "id": "6e32ccea",
   "metadata": {},
   "outputs": [],
   "source": [
    "# ⚙️ Step 2: Feature Engineering - Compute speed and acceleration\n",
    "df['dx'] = df['x'].diff()\n",
    "df['dy'] = df['y'].diff()\n",
    "df['dt'] = df['time'].diff().replace(0, 1)\n",
    "df['speed'] = ((df['dx']**2 + df['dy']**2)**0.5) / df['dt']\n",
    "df['acceleration'] = df['speed'].diff() / df['dt']\n",
    "df[['speed', 'acceleration']].head()"
   ]
  },
  {
   "cell_type": "code",
   "execution_count": null,
   "id": "b4f172d5",
   "metadata": {},
   "outputs": [],
   "source": [
    "# 🤖 Step 3: Apply Isolation Forest to detect anomalies\n",
    "features = df[['speed', 'acceleration']].fillna(0)\n",
    "model = IsolationForest(contamination=0.1, random_state=42)\n",
    "df['anomaly'] = model.fit_predict(features)\n",
    "df['anomaly'] = df['anomaly'].map({1: 'Normal', -1: 'Anomaly'})\n",
    "df[['speed', 'acceleration', 'anomaly']].head()"
   ]
  },
  {
   "cell_type": "code",
   "execution_count": null,
   "id": "b9f9e168",
   "metadata": {},
   "outputs": [],
   "source": [
    "# 📊 Step 4: Visualization - Speed vs. Acceleration with anomalies\n",
    "plt.figure(figsize=(10, 6))\n",
    "sns.scatterplot(data=df, x='speed', y='acceleration', hue='anomaly', palette={'Normal':'blue', 'Anomaly':'red'})\n",
    "plt.title('Mouse Movement: Isolation Forest Results')\n",
    "plt.grid(True)\n",
    "plt.show()"
   ]
  },
  {
   "cell_type": "code",
   "execution_count": null,
   "id": "2d43f945",
   "metadata": {},
   "outputs": [],
   "source": [
    "# 📈 Step 5: Visualize anomalies over time (by speed)\n",
    "plt.figure(figsize=(10, 4))\n",
    "colors = df['anomaly'].map({'Normal': 'blue', 'Anomaly': 'red'})\n",
    "plt.scatter(df['time'], df['speed'], c=colors, alpha=0.7)\n",
    "plt.title('Anomalies Over Time')\n",
    "plt.xlabel('Time')\n",
    "plt.ylabel('Speed')\n",
    "plt.grid(True)\n",
    "plt.show()"
   ]
  },
  {
   "cell_type": "code",
   "execution_count": null,
   "id": "d93af549",
   "metadata": {},
   "outputs": [],
   "source": [
    "# 📤 Step 6: Export final results\n",
    "df.to_csv('mouse_movement_with_anomalies.csv', index=False)\n",
    "print('✅ File exported: mouse_movement_with_anomalies.csv')"
   ]
  },
  {
   "cell_type": "code",
   "execution_count": null,
   "id": "daf0e9ad",
   "metadata": {},
   "outputs": [],
   "source": [
    "# 📋 Step 7: Summary of results\n",
    "summary = df['anomaly'].value_counts()\n",
    "percentage = df['anomaly'].value_counts(normalize=True) * 100\n",
    "summary_df = pd.DataFrame({'Count': summary, 'Percentage': percentage.round(2)})\n",
    "summary_df"
   ]
  }
 ],
 "metadata": {},
 "nbformat": 4,
 "nbformat_minor": 5
}